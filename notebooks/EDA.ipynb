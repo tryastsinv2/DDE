{
 "cells": [
  {
   "cell_type": "markdown",
   "id": "abab836a",
   "metadata": {},
   "source": [
    "1) Импортируем все необходимые библиотеки:"
   ]
  },
  {
   "cell_type": "code",
   "execution_count": 28,
   "id": "9215d9a5-abcf-4d4d-ae82-db6f9928a8a9",
   "metadata": {},
   "outputs": [],
   "source": [
    "import pandas as pd\n",
    "import numpy as np"
   ]
  },
  {
   "cell_type": "markdown",
   "id": "d3c5c09d",
   "metadata": {},
   "source": [
    "Мы сделали импорт нужных библиотек."
   ]
  },
  {
   "cell_type": "markdown",
   "id": "6845e3ca",
   "metadata": {},
   "source": [
    "2) Загружаем данные в датафрейм:"
   ]
  },
  {
   "cell_type": "code",
   "execution_count": 29,
   "id": "36456b66-d677-4c8b-ab91-777d5dc315e9",
   "metadata": {},
   "outputs": [
    {
     "data": {
      "text/html": [
       "<div>\n",
       "<style scoped>\n",
       "    .dataframe tbody tr th:only-of-type {\n",
       "        vertical-align: middle;\n",
       "    }\n",
       "\n",
       "    .dataframe tbody tr th {\n",
       "        vertical-align: top;\n",
       "    }\n",
       "\n",
       "    .dataframe thead th {\n",
       "        text-align: right;\n",
       "    }\n",
       "</style>\n",
       "<table border=\"1\" class=\"dataframe\">\n",
       "  <thead>\n",
       "    <tr style=\"text-align: right;\">\n",
       "      <th></th>\n",
       "      <th>Mineral Name</th>\n",
       "      <th>RRUFF Chemistry (plain)</th>\n",
       "      <th>IMA Chemistry (plain)</th>\n",
       "      <th>Chemistry Elements</th>\n",
       "      <th>IMA Number</th>\n",
       "      <th>RRUFF IDs</th>\n",
       "      <th>Country of Type Locality</th>\n",
       "      <th>Year First Published</th>\n",
       "      <th>IMA Status</th>\n",
       "      <th>Structural Groupname</th>\n",
       "      <th>Fleischers Groupname</th>\n",
       "      <th>Status Notes</th>\n",
       "      <th>Crystal Systems</th>\n",
       "      <th>Space Groups</th>\n",
       "      <th>Oldest Known Age (Ma)</th>\n",
       "      <th>Valence Elements</th>\n",
       "      <th>Paragenetic Modes</th>\n",
       "    </tr>\n",
       "  </thead>\n",
       "  <tbody>\n",
       "    <tr>\n",
       "      <th>0</th>\n",
       "      <td>Abellaite</td>\n",
       "      <td>NaPb2+2(CO3)2(OH)</td>\n",
       "      <td>NaPb2(CO3)2(OH)</td>\n",
       "      <td>Na Pb C O H</td>\n",
       "      <td>IMA2014-111</td>\n",
       "      <td>NaN</td>\n",
       "      <td>Spain</td>\n",
       "      <td>2014</td>\n",
       "      <td>Approved</td>\n",
       "      <td>Not in a structural group</td>\n",
       "      <td></td>\n",
       "      <td>Ibáñez-Insa J, Elvira J J, Llovet X, Pérez-Can...</td>\n",
       "      <td>hexagonal</td>\n",
       "      <td>P31c|P6_3mc</td>\n",
       "      <td>370.0</td>\n",
       "      <td>Na Pb^2+ C O H</td>\n",
       "      <td>Biotic, Secondary; Stage 7: Great Oxidation Ev...</td>\n",
       "    </tr>\n",
       "    <tr>\n",
       "      <th>1</th>\n",
       "      <td>Abelsonite</td>\n",
       "      <td>Ni2+C31H32N4</td>\n",
       "      <td>NiC31H32N4</td>\n",
       "      <td>Ni C H N</td>\n",
       "      <td>IMA1975-013</td>\n",
       "      <td>R070007</td>\n",
       "      <td>USA</td>\n",
       "      <td>1975</td>\n",
       "      <td>Approved</td>\n",
       "      <td>Not in a structural group</td>\n",
       "      <td></td>\n",
       "      <td>Milton C, Dwornik E J, Estep-Barnes P A, Finke...</td>\n",
       "      <td>triclinic</td>\n",
       "      <td>P-1</td>\n",
       "      <td>56.0</td>\n",
       "      <td>Ni^2+ C H N</td>\n",
       "      <td>Biotic, Secondary; Stage 7: Great Oxidation Ev...</td>\n",
       "    </tr>\n",
       "    <tr>\n",
       "      <th>2</th>\n",
       "      <td>Abenakiite-(Ce)</td>\n",
       "      <td>Na26Ce3+6(SiO3)6(PO4)6(C4+O3)6(S4+O2)O</td>\n",
       "      <td>Na26Ce6(Si6O18)(PO4)6(CO3)6(SO2)O</td>\n",
       "      <td>Na Ce Si O P C S</td>\n",
       "      <td>IMA1991-054</td>\n",
       "      <td>NaN</td>\n",
       "      <td>Canada</td>\n",
       "      <td>1991</td>\n",
       "      <td>Approved</td>\n",
       "      <td>Not in a structural group</td>\n",
       "      <td></td>\n",
       "      <td>McDonald A M, Chao G Y, Grice J D (1994) Abena...</td>\n",
       "      <td>hexagonal</td>\n",
       "      <td>R-3</td>\n",
       "      <td>124.0</td>\n",
       "      <td>Na Ce^3+ Si O P C^4+ S^4+</td>\n",
       "      <td>Abiotic, Primary; Stage 4b: Highly evolved ign...</td>\n",
       "    </tr>\n",
       "    <tr>\n",
       "      <th>3</th>\n",
       "      <td>Abernathyite</td>\n",
       "      <td>K(U6+O2)As5+O4·3H2O</td>\n",
       "      <td>K(UO2)(AsO4)·3H2O</td>\n",
       "      <td>K U O As H</td>\n",
       "      <td>NaN</td>\n",
       "      <td>NaN</td>\n",
       "      <td>USA</td>\n",
       "      <td>1956</td>\n",
       "      <td>Approved,Grandfathered</td>\n",
       "      <td>Natroautunite</td>\n",
       "      <td>autunite</td>\n",
       "      <td>Thompson M E, Ingram B, Gross E B (1956) Abern...</td>\n",
       "      <td>tetragonal</td>\n",
       "      <td>P4/nmm|P4/ncc</td>\n",
       "      <td>358.9</td>\n",
       "      <td>K U^6+ O As^5+ H</td>\n",
       "      <td>Biotic, Secondary; Stage 7: Great Oxidation Ev...</td>\n",
       "    </tr>\n",
       "    <tr>\n",
       "      <th>4</th>\n",
       "      <td>Abhurite</td>\n",
       "      <td>Sn2+21O6(OH)14Cl16</td>\n",
       "      <td>Sn2+21O6(OH)14Cl16</td>\n",
       "      <td>Sn O H Cl</td>\n",
       "      <td>IMA1983-061</td>\n",
       "      <td>R060227</td>\n",
       "      <td>Saudi Arabia</td>\n",
       "      <td>1983</td>\n",
       "      <td>Approved</td>\n",
       "      <td>Not in a structural group</td>\n",
       "      <td></td>\n",
       "      <td>Matzko J J, Evans H T, Mrose M E, Aruscavage P...</td>\n",
       "      <td>hexagonal</td>\n",
       "      <td>R32</td>\n",
       "      <td>0.0</td>\n",
       "      <td>Sn^2+ O H Cl</td>\n",
       "      <td>Biotic, Secondary; Stage 7: Great Oxidation Ev...</td>\n",
       "    </tr>\n",
       "  </tbody>\n",
       "</table>\n",
       "</div>"
      ],
      "text/plain": [
       "      Mineral Name                 RRUFF Chemistry (plain)  \\\n",
       "0        Abellaite                       NaPb2+2(CO3)2(OH)   \n",
       "1       Abelsonite                            Ni2+C31H32N4   \n",
       "2  Abenakiite-(Ce)  Na26Ce3+6(SiO3)6(PO4)6(C4+O3)6(S4+O2)O   \n",
       "3     Abernathyite                     K(U6+O2)As5+O4·3H2O   \n",
       "4         Abhurite                      Sn2+21O6(OH)14Cl16   \n",
       "\n",
       "               IMA Chemistry (plain) Chemistry Elements   IMA Number  \\\n",
       "0                    NaPb2(CO3)2(OH)        Na Pb C O H  IMA2014-111   \n",
       "1                         NiC31H32N4           Ni C H N  IMA1975-013   \n",
       "2  Na26Ce6(Si6O18)(PO4)6(CO3)6(SO2)O   Na Ce Si O P C S  IMA1991-054   \n",
       "3                  K(UO2)(AsO4)·3H2O         K U O As H          NaN   \n",
       "4                 Sn2+21O6(OH)14Cl16          Sn O H Cl  IMA1983-061   \n",
       "\n",
       "  RRUFF IDs Country of Type Locality  Year First Published  \\\n",
       "0       NaN                    Spain                  2014   \n",
       "1   R070007                      USA                  1975   \n",
       "2       NaN                   Canada                  1991   \n",
       "3       NaN                      USA                  1956   \n",
       "4   R060227             Saudi Arabia                  1983   \n",
       "\n",
       "               IMA Status       Structural Groupname Fleischers Groupname  \\\n",
       "0                Approved  Not in a structural group                        \n",
       "1                Approved  Not in a structural group                        \n",
       "2                Approved  Not in a structural group                        \n",
       "3  Approved,Grandfathered              Natroautunite             autunite   \n",
       "4                Approved  Not in a structural group                        \n",
       "\n",
       "                                        Status Notes Crystal Systems  \\\n",
       "0  Ibáñez-Insa J, Elvira J J, Llovet X, Pérez-Can...       hexagonal   \n",
       "1  Milton C, Dwornik E J, Estep-Barnes P A, Finke...       triclinic   \n",
       "2  McDonald A M, Chao G Y, Grice J D (1994) Abena...       hexagonal   \n",
       "3  Thompson M E, Ingram B, Gross E B (1956) Abern...      tetragonal   \n",
       "4  Matzko J J, Evans H T, Mrose M E, Aruscavage P...       hexagonal   \n",
       "\n",
       "    Space Groups  Oldest Known Age (Ma)           Valence Elements  \\\n",
       "0    P31c|P6_3mc                  370.0             Na Pb^2+ C O H   \n",
       "1            P-1                   56.0                Ni^2+ C H N   \n",
       "2            R-3                  124.0  Na Ce^3+ Si O P C^4+ S^4+   \n",
       "3  P4/nmm|P4/ncc                  358.9           K U^6+ O As^5+ H   \n",
       "4            R32                    0.0               Sn^2+ O H Cl   \n",
       "\n",
       "                                   Paragenetic Modes  \n",
       "0  Biotic, Secondary; Stage 7: Great Oxidation Ev...  \n",
       "1  Biotic, Secondary; Stage 7: Great Oxidation Ev...  \n",
       "2  Abiotic, Primary; Stage 4b: Highly evolved ign...  \n",
       "3  Biotic, Secondary; Stage 7: Great Oxidation Ev...  \n",
       "4  Biotic, Secondary; Stage 7: Great Oxidation Ev...  "
      ]
     },
     "execution_count": 29,
     "metadata": {},
     "output_type": "execute_result"
    }
   ],
   "source": [
    "FILE_ID = \"1NaXgQ0LiW-RjNohEZ_uwRw19E-czPizL\"  # ID файла на Google Drive\n",
    "file_url = f\"https://drive.google.com/uc?id={FILE_ID}\"\n",
    "\n",
    "df = pd.read_csv(file_url)  # читаем файл\n",
    "\n",
    "df.head(5)  # выводим на экран первые 5 строк для проверки"
   ]
  },
  {
   "cell_type": "markdown",
   "id": "a5bc13ab",
   "metadata": {},
   "source": [
    "Наши данные были прочитаны корректно."
   ]
  },
  {
   "cell_type": "markdown",
   "id": "b78a613d",
   "metadata": {},
   "source": [
    "3) Проверяем типы данных"
   ]
  },
  {
   "cell_type": "code",
   "execution_count": 30,
   "id": "257fee0e-a091-4970-bccb-5156e934cca1",
   "metadata": {},
   "outputs": [
    {
     "data": {
      "text/plain": [
       "Mineral Name                 object\n",
       "RRUFF Chemistry (plain)      object\n",
       "IMA Chemistry (plain)        object\n",
       "Chemistry Elements           object\n",
       "IMA Number                   object\n",
       "RRUFF IDs                    object\n",
       "Country of Type Locality     object\n",
       "Year First Published          int64\n",
       "IMA Status                   object\n",
       "Structural Groupname         object\n",
       "Fleischers Groupname         object\n",
       "Status Notes                 object\n",
       "Crystal Systems              object\n",
       "Space Groups                 object\n",
       "Oldest Known Age (Ma)       float64\n",
       "Valence Elements             object\n",
       "Paragenetic Modes            object\n",
       "dtype: object"
      ]
     },
     "execution_count": 30,
     "metadata": {},
     "output_type": "execute_result"
    }
   ],
   "source": [
    "df.dtypes"
   ]
  },
  {
   "cell_type": "markdown",
   "id": "7e6b17d5",
   "metadata": {},
   "source": [
    "Мы узнали типы наших данных. В основном датасет состоит из строчных данных, но есть несколько числовых признаков."
   ]
  },
  {
   "cell_type": "markdown",
   "id": "0d569055",
   "metadata": {},
   "source": [
    "4) Удаляем ненужные признаки"
   ]
  },
  {
   "cell_type": "code",
   "execution_count": 31,
   "id": "6571c49a",
   "metadata": {},
   "outputs": [
    {
     "data": {
      "text/html": [
       "<div>\n",
       "<style scoped>\n",
       "    .dataframe tbody tr th:only-of-type {\n",
       "        vertical-align: middle;\n",
       "    }\n",
       "\n",
       "    .dataframe tbody tr th {\n",
       "        vertical-align: top;\n",
       "    }\n",
       "\n",
       "    .dataframe thead th {\n",
       "        text-align: right;\n",
       "    }\n",
       "</style>\n",
       "<table border=\"1\" class=\"dataframe\">\n",
       "  <thead>\n",
       "    <tr style=\"text-align: right;\">\n",
       "      <th></th>\n",
       "      <th>Mineral Name</th>\n",
       "      <th>RRUFF Chemistry (plain)</th>\n",
       "      <th>IMA Chemistry (plain)</th>\n",
       "      <th>Chemistry Elements</th>\n",
       "      <th>Year First Published</th>\n",
       "      <th>IMA Status</th>\n",
       "      <th>Structural Groupname</th>\n",
       "      <th>Status Notes</th>\n",
       "      <th>Crystal Systems</th>\n",
       "      <th>Space Groups</th>\n",
       "      <th>Oldest Known Age (Ma)</th>\n",
       "      <th>Valence Elements</th>\n",
       "      <th>Paragenetic Modes</th>\n",
       "    </tr>\n",
       "  </thead>\n",
       "  <tbody>\n",
       "    <tr>\n",
       "      <th>0</th>\n",
       "      <td>Abellaite</td>\n",
       "      <td>NaPb2+2(CO3)2(OH)</td>\n",
       "      <td>NaPb2(CO3)2(OH)</td>\n",
       "      <td>Na Pb C O H</td>\n",
       "      <td>2014</td>\n",
       "      <td>Approved</td>\n",
       "      <td>Not in a structural group</td>\n",
       "      <td>Ibáñez-Insa J, Elvira J J, Llovet X, Pérez-Can...</td>\n",
       "      <td>hexagonal</td>\n",
       "      <td>P31c|P6_3mc</td>\n",
       "      <td>370.0</td>\n",
       "      <td>Na Pb^2+ C O H</td>\n",
       "      <td>Biotic, Secondary; Stage 7: Great Oxidation Ev...</td>\n",
       "    </tr>\n",
       "    <tr>\n",
       "      <th>1</th>\n",
       "      <td>Abelsonite</td>\n",
       "      <td>Ni2+C31H32N4</td>\n",
       "      <td>NiC31H32N4</td>\n",
       "      <td>Ni C H N</td>\n",
       "      <td>1975</td>\n",
       "      <td>Approved</td>\n",
       "      <td>Not in a structural group</td>\n",
       "      <td>Milton C, Dwornik E J, Estep-Barnes P A, Finke...</td>\n",
       "      <td>triclinic</td>\n",
       "      <td>P-1</td>\n",
       "      <td>56.0</td>\n",
       "      <td>Ni^2+ C H N</td>\n",
       "      <td>Biotic, Secondary; Stage 7: Great Oxidation Ev...</td>\n",
       "    </tr>\n",
       "    <tr>\n",
       "      <th>2</th>\n",
       "      <td>Abenakiite-(Ce)</td>\n",
       "      <td>Na26Ce3+6(SiO3)6(PO4)6(C4+O3)6(S4+O2)O</td>\n",
       "      <td>Na26Ce6(Si6O18)(PO4)6(CO3)6(SO2)O</td>\n",
       "      <td>Na Ce Si O P C S</td>\n",
       "      <td>1991</td>\n",
       "      <td>Approved</td>\n",
       "      <td>Not in a structural group</td>\n",
       "      <td>McDonald A M, Chao G Y, Grice J D (1994) Abena...</td>\n",
       "      <td>hexagonal</td>\n",
       "      <td>R-3</td>\n",
       "      <td>124.0</td>\n",
       "      <td>Na Ce^3+ Si O P C^4+ S^4+</td>\n",
       "      <td>Abiotic, Primary; Stage 4b: Highly evolved ign...</td>\n",
       "    </tr>\n",
       "    <tr>\n",
       "      <th>3</th>\n",
       "      <td>Abernathyite</td>\n",
       "      <td>K(U6+O2)As5+O4·3H2O</td>\n",
       "      <td>K(UO2)(AsO4)·3H2O</td>\n",
       "      <td>K U O As H</td>\n",
       "      <td>1956</td>\n",
       "      <td>Approved,Grandfathered</td>\n",
       "      <td>Natroautunite</td>\n",
       "      <td>Thompson M E, Ingram B, Gross E B (1956) Abern...</td>\n",
       "      <td>tetragonal</td>\n",
       "      <td>P4/nmm|P4/ncc</td>\n",
       "      <td>358.9</td>\n",
       "      <td>K U^6+ O As^5+ H</td>\n",
       "      <td>Biotic, Secondary; Stage 7: Great Oxidation Ev...</td>\n",
       "    </tr>\n",
       "    <tr>\n",
       "      <th>4</th>\n",
       "      <td>Abhurite</td>\n",
       "      <td>Sn2+21O6(OH)14Cl16</td>\n",
       "      <td>Sn2+21O6(OH)14Cl16</td>\n",
       "      <td>Sn O H Cl</td>\n",
       "      <td>1983</td>\n",
       "      <td>Approved</td>\n",
       "      <td>Not in a structural group</td>\n",
       "      <td>Matzko J J, Evans H T, Mrose M E, Aruscavage P...</td>\n",
       "      <td>hexagonal</td>\n",
       "      <td>R32</td>\n",
       "      <td>0.0</td>\n",
       "      <td>Sn^2+ O H Cl</td>\n",
       "      <td>Biotic, Secondary; Stage 7: Great Oxidation Ev...</td>\n",
       "    </tr>\n",
       "  </tbody>\n",
       "</table>\n",
       "</div>"
      ],
      "text/plain": [
       "      Mineral Name                 RRUFF Chemistry (plain)  \\\n",
       "0        Abellaite                       NaPb2+2(CO3)2(OH)   \n",
       "1       Abelsonite                            Ni2+C31H32N4   \n",
       "2  Abenakiite-(Ce)  Na26Ce3+6(SiO3)6(PO4)6(C4+O3)6(S4+O2)O   \n",
       "3     Abernathyite                     K(U6+O2)As5+O4·3H2O   \n",
       "4         Abhurite                      Sn2+21O6(OH)14Cl16   \n",
       "\n",
       "               IMA Chemistry (plain) Chemistry Elements  Year First Published  \\\n",
       "0                    NaPb2(CO3)2(OH)        Na Pb C O H                  2014   \n",
       "1                         NiC31H32N4           Ni C H N                  1975   \n",
       "2  Na26Ce6(Si6O18)(PO4)6(CO3)6(SO2)O   Na Ce Si O P C S                  1991   \n",
       "3                  K(UO2)(AsO4)·3H2O         K U O As H                  1956   \n",
       "4                 Sn2+21O6(OH)14Cl16          Sn O H Cl                  1983   \n",
       "\n",
       "               IMA Status       Structural Groupname  \\\n",
       "0                Approved  Not in a structural group   \n",
       "1                Approved  Not in a structural group   \n",
       "2                Approved  Not in a structural group   \n",
       "3  Approved,Grandfathered              Natroautunite   \n",
       "4                Approved  Not in a structural group   \n",
       "\n",
       "                                        Status Notes Crystal Systems  \\\n",
       "0  Ibáñez-Insa J, Elvira J J, Llovet X, Pérez-Can...       hexagonal   \n",
       "1  Milton C, Dwornik E J, Estep-Barnes P A, Finke...       triclinic   \n",
       "2  McDonald A M, Chao G Y, Grice J D (1994) Abena...       hexagonal   \n",
       "3  Thompson M E, Ingram B, Gross E B (1956) Abern...      tetragonal   \n",
       "4  Matzko J J, Evans H T, Mrose M E, Aruscavage P...       hexagonal   \n",
       "\n",
       "    Space Groups  Oldest Known Age (Ma)           Valence Elements  \\\n",
       "0    P31c|P6_3mc                  370.0             Na Pb^2+ C O H   \n",
       "1            P-1                   56.0                Ni^2+ C H N   \n",
       "2            R-3                  124.0  Na Ce^3+ Si O P C^4+ S^4+   \n",
       "3  P4/nmm|P4/ncc                  358.9           K U^6+ O As^5+ H   \n",
       "4            R32                    0.0               Sn^2+ O H Cl   \n",
       "\n",
       "                                   Paragenetic Modes  \n",
       "0  Biotic, Secondary; Stage 7: Great Oxidation Ev...  \n",
       "1  Biotic, Secondary; Stage 7: Great Oxidation Ev...  \n",
       "2  Abiotic, Primary; Stage 4b: Highly evolved ign...  \n",
       "3  Biotic, Secondary; Stage 7: Great Oxidation Ev...  \n",
       "4  Biotic, Secondary; Stage 7: Great Oxidation Ev...  "
      ]
     },
     "execution_count": 31,
     "metadata": {},
     "output_type": "execute_result"
    }
   ],
   "source": [
    "df = df.drop(['IMA Number', 'RRUFF IDs', 'Country of Type Locality', 'Fleischers Groupname'], axis=1)\n",
    "df.head(5)"
   ]
  },
  {
   "cell_type": "markdown",
   "id": "88a7cb71",
   "metadata": {},
   "source": [
    "Мы удалили ненужные второстепенные признаки."
   ]
  },
  {
   "cell_type": "markdown",
   "id": "7c21fdf8",
   "metadata": {},
   "source": [
    "5) Переименовываем признаки"
   ]
  },
  {
   "cell_type": "code",
   "execution_count": 32,
   "id": "298afeeb-09c1-40b6-99c1-2f481cdb475f",
   "metadata": {},
   "outputs": [
    {
     "data": {
      "text/html": [
       "<div>\n",
       "<style scoped>\n",
       "    .dataframe tbody tr th:only-of-type {\n",
       "        vertical-align: middle;\n",
       "    }\n",
       "\n",
       "    .dataframe tbody tr th {\n",
       "        vertical-align: top;\n",
       "    }\n",
       "\n",
       "    .dataframe thead th {\n",
       "        text-align: right;\n",
       "    }\n",
       "</style>\n",
       "<table border=\"1\" class=\"dataframe\">\n",
       "  <thead>\n",
       "    <tr style=\"text-align: right;\">\n",
       "      <th></th>\n",
       "      <th>Name</th>\n",
       "      <th>RRUFF</th>\n",
       "      <th>IMA</th>\n",
       "      <th>Chemistry Elements</th>\n",
       "      <th>Year First Published</th>\n",
       "      <th>IMA Status</th>\n",
       "      <th>Structural Groupname</th>\n",
       "      <th>Status Notes</th>\n",
       "      <th>Crystal Systems</th>\n",
       "      <th>Space Groups</th>\n",
       "      <th>Oldest Known Age (Ma)</th>\n",
       "      <th>Valence Elements</th>\n",
       "      <th>Paragenetic Modes</th>\n",
       "    </tr>\n",
       "  </thead>\n",
       "  <tbody>\n",
       "    <tr>\n",
       "      <th>0</th>\n",
       "      <td>Abellaite</td>\n",
       "      <td>NaPb2+2(CO3)2(OH)</td>\n",
       "      <td>NaPb2(CO3)2(OH)</td>\n",
       "      <td>Na Pb C O H</td>\n",
       "      <td>2014</td>\n",
       "      <td>Approved</td>\n",
       "      <td>Not in a structural group</td>\n",
       "      <td>Ibáñez-Insa J, Elvira J J, Llovet X, Pérez-Can...</td>\n",
       "      <td>hexagonal</td>\n",
       "      <td>P31c|P6_3mc</td>\n",
       "      <td>370.0</td>\n",
       "      <td>Na Pb^2+ C O H</td>\n",
       "      <td>Biotic, Secondary; Stage 7: Great Oxidation Ev...</td>\n",
       "    </tr>\n",
       "    <tr>\n",
       "      <th>1</th>\n",
       "      <td>Abelsonite</td>\n",
       "      <td>Ni2+C31H32N4</td>\n",
       "      <td>NiC31H32N4</td>\n",
       "      <td>Ni C H N</td>\n",
       "      <td>1975</td>\n",
       "      <td>Approved</td>\n",
       "      <td>Not in a structural group</td>\n",
       "      <td>Milton C, Dwornik E J, Estep-Barnes P A, Finke...</td>\n",
       "      <td>triclinic</td>\n",
       "      <td>P-1</td>\n",
       "      <td>56.0</td>\n",
       "      <td>Ni^2+ C H N</td>\n",
       "      <td>Biotic, Secondary; Stage 7: Great Oxidation Ev...</td>\n",
       "    </tr>\n",
       "    <tr>\n",
       "      <th>2</th>\n",
       "      <td>Abenakiite-(Ce)</td>\n",
       "      <td>Na26Ce3+6(SiO3)6(PO4)6(C4+O3)6(S4+O2)O</td>\n",
       "      <td>Na26Ce6(Si6O18)(PO4)6(CO3)6(SO2)O</td>\n",
       "      <td>Na Ce Si O P C S</td>\n",
       "      <td>1991</td>\n",
       "      <td>Approved</td>\n",
       "      <td>Not in a structural group</td>\n",
       "      <td>McDonald A M, Chao G Y, Grice J D (1994) Abena...</td>\n",
       "      <td>hexagonal</td>\n",
       "      <td>R-3</td>\n",
       "      <td>124.0</td>\n",
       "      <td>Na Ce^3+ Si O P C^4+ S^4+</td>\n",
       "      <td>Abiotic, Primary; Stage 4b: Highly evolved ign...</td>\n",
       "    </tr>\n",
       "    <tr>\n",
       "      <th>3</th>\n",
       "      <td>Abernathyite</td>\n",
       "      <td>K(U6+O2)As5+O4·3H2O</td>\n",
       "      <td>K(UO2)(AsO4)·3H2O</td>\n",
       "      <td>K U O As H</td>\n",
       "      <td>1956</td>\n",
       "      <td>Approved,Grandfathered</td>\n",
       "      <td>Natroautunite</td>\n",
       "      <td>Thompson M E, Ingram B, Gross E B (1956) Abern...</td>\n",
       "      <td>tetragonal</td>\n",
       "      <td>P4/nmm|P4/ncc</td>\n",
       "      <td>358.9</td>\n",
       "      <td>K U^6+ O As^5+ H</td>\n",
       "      <td>Biotic, Secondary; Stage 7: Great Oxidation Ev...</td>\n",
       "    </tr>\n",
       "    <tr>\n",
       "      <th>4</th>\n",
       "      <td>Abhurite</td>\n",
       "      <td>Sn2+21O6(OH)14Cl16</td>\n",
       "      <td>Sn2+21O6(OH)14Cl16</td>\n",
       "      <td>Sn O H Cl</td>\n",
       "      <td>1983</td>\n",
       "      <td>Approved</td>\n",
       "      <td>Not in a structural group</td>\n",
       "      <td>Matzko J J, Evans H T, Mrose M E, Aruscavage P...</td>\n",
       "      <td>hexagonal</td>\n",
       "      <td>R32</td>\n",
       "      <td>0.0</td>\n",
       "      <td>Sn^2+ O H Cl</td>\n",
       "      <td>Biotic, Secondary; Stage 7: Great Oxidation Ev...</td>\n",
       "    </tr>\n",
       "  </tbody>\n",
       "</table>\n",
       "</div>"
      ],
      "text/plain": [
       "              Name                                   RRUFF  \\\n",
       "0        Abellaite                       NaPb2+2(CO3)2(OH)   \n",
       "1       Abelsonite                            Ni2+C31H32N4   \n",
       "2  Abenakiite-(Ce)  Na26Ce3+6(SiO3)6(PO4)6(C4+O3)6(S4+O2)O   \n",
       "3     Abernathyite                     K(U6+O2)As5+O4·3H2O   \n",
       "4         Abhurite                      Sn2+21O6(OH)14Cl16   \n",
       "\n",
       "                                 IMA Chemistry Elements  Year First Published  \\\n",
       "0                    NaPb2(CO3)2(OH)        Na Pb C O H                  2014   \n",
       "1                         NiC31H32N4           Ni C H N                  1975   \n",
       "2  Na26Ce6(Si6O18)(PO4)6(CO3)6(SO2)O   Na Ce Si O P C S                  1991   \n",
       "3                  K(UO2)(AsO4)·3H2O         K U O As H                  1956   \n",
       "4                 Sn2+21O6(OH)14Cl16          Sn O H Cl                  1983   \n",
       "\n",
       "               IMA Status       Structural Groupname  \\\n",
       "0                Approved  Not in a structural group   \n",
       "1                Approved  Not in a structural group   \n",
       "2                Approved  Not in a structural group   \n",
       "3  Approved,Grandfathered              Natroautunite   \n",
       "4                Approved  Not in a structural group   \n",
       "\n",
       "                                        Status Notes Crystal Systems  \\\n",
       "0  Ibáñez-Insa J, Elvira J J, Llovet X, Pérez-Can...       hexagonal   \n",
       "1  Milton C, Dwornik E J, Estep-Barnes P A, Finke...       triclinic   \n",
       "2  McDonald A M, Chao G Y, Grice J D (1994) Abena...       hexagonal   \n",
       "3  Thompson M E, Ingram B, Gross E B (1956) Abern...      tetragonal   \n",
       "4  Matzko J J, Evans H T, Mrose M E, Aruscavage P...       hexagonal   \n",
       "\n",
       "    Space Groups  Oldest Known Age (Ma)           Valence Elements  \\\n",
       "0    P31c|P6_3mc                  370.0             Na Pb^2+ C O H   \n",
       "1            P-1                   56.0                Ni^2+ C H N   \n",
       "2            R-3                  124.0  Na Ce^3+ Si O P C^4+ S^4+   \n",
       "3  P4/nmm|P4/ncc                  358.9           K U^6+ O As^5+ H   \n",
       "4            R32                    0.0               Sn^2+ O H Cl   \n",
       "\n",
       "                                   Paragenetic Modes  \n",
       "0  Biotic, Secondary; Stage 7: Great Oxidation Ev...  \n",
       "1  Biotic, Secondary; Stage 7: Great Oxidation Ev...  \n",
       "2  Abiotic, Primary; Stage 4b: Highly evolved ign...  \n",
       "3  Biotic, Secondary; Stage 7: Great Oxidation Ev...  \n",
       "4  Biotic, Secondary; Stage 7: Great Oxidation Ev...  "
      ]
     },
     "execution_count": 32,
     "metadata": {},
     "output_type": "execute_result"
    }
   ],
   "source": [
    "df = df.rename(columns={\"Mineral Name\": \"Name\", \"RRUFF Chemistry (plain)\": \"RRUFF\", \"IMA Chemistry (plain)\": \"IMA\"})\n",
    "df.head(5)"
   ]
  },
  {
   "cell_type": "markdown",
   "id": "00ba75e7",
   "metadata": {},
   "source": [
    "Мы упростили имена для некоторых колонок."
   ]
  },
  {
   "cell_type": "markdown",
   "id": "16dae700",
   "metadata": {},
   "source": [
    "6) Удаляем дубликаты"
   ]
  },
  {
   "cell_type": "code",
   "execution_count": 33,
   "id": "91f9c1f5-bd68-4489-b29d-4ea36144ff17",
   "metadata": {},
   "outputs": [
    {
     "data": {
      "text/plain": [
       "(5904, 13)"
      ]
     },
     "execution_count": 33,
     "metadata": {},
     "output_type": "execute_result"
    }
   ],
   "source": [
    "df.shape"
   ]
  },
  {
   "cell_type": "code",
   "execution_count": 34,
   "id": "775b10d8",
   "metadata": {},
   "outputs": [
    {
     "name": "stdout",
     "output_type": "stream",
     "text": [
      "Количество дубликатов:  (0, 13)\n"
     ]
    }
   ],
   "source": [
    "duplicate_rows_df = df[df.duplicated()]\n",
    "print(\"Количество дубликатов: \", duplicate_rows_df.shape)"
   ]
  },
  {
   "cell_type": "code",
   "execution_count": 35,
   "id": "4033c9d0",
   "metadata": {},
   "outputs": [
    {
     "data": {
      "text/plain": [
       "Name                     5904\n",
       "RRUFF                    5904\n",
       "IMA                      5904\n",
       "Chemistry Elements       5904\n",
       "Year First Published     5904\n",
       "IMA Status               5903\n",
       "Structural Groupname     5904\n",
       "Status Notes             5899\n",
       "Crystal Systems          5634\n",
       "Space Groups             5159\n",
       "Oldest Known Age (Ma)    4824\n",
       "Valence Elements         5904\n",
       "Paragenetic Modes        5845\n",
       "dtype: int64"
      ]
     },
     "execution_count": 35,
     "metadata": {},
     "output_type": "execute_result"
    }
   ],
   "source": [
    "df.count() "
   ]
  },
  {
   "cell_type": "code",
   "execution_count": 36,
   "id": "e5d4291b",
   "metadata": {},
   "outputs": [
    {
     "data": {
      "text/html": [
       "<div>\n",
       "<style scoped>\n",
       "    .dataframe tbody tr th:only-of-type {\n",
       "        vertical-align: middle;\n",
       "    }\n",
       "\n",
       "    .dataframe tbody tr th {\n",
       "        vertical-align: top;\n",
       "    }\n",
       "\n",
       "    .dataframe thead th {\n",
       "        text-align: right;\n",
       "    }\n",
       "</style>\n",
       "<table border=\"1\" class=\"dataframe\">\n",
       "  <thead>\n",
       "    <tr style=\"text-align: right;\">\n",
       "      <th></th>\n",
       "      <th>Name</th>\n",
       "      <th>RRUFF</th>\n",
       "      <th>IMA</th>\n",
       "      <th>Chemistry Elements</th>\n",
       "      <th>Year First Published</th>\n",
       "      <th>IMA Status</th>\n",
       "      <th>Structural Groupname</th>\n",
       "      <th>Status Notes</th>\n",
       "      <th>Crystal Systems</th>\n",
       "      <th>Space Groups</th>\n",
       "      <th>Oldest Known Age (Ma)</th>\n",
       "      <th>Valence Elements</th>\n",
       "      <th>Paragenetic Modes</th>\n",
       "    </tr>\n",
       "  </thead>\n",
       "  <tbody>\n",
       "    <tr>\n",
       "      <th>0</th>\n",
       "      <td>Abellaite</td>\n",
       "      <td>NaPb2+2(CO3)2(OH)</td>\n",
       "      <td>NaPb2(CO3)2(OH)</td>\n",
       "      <td>Na Pb C O H</td>\n",
       "      <td>2014</td>\n",
       "      <td>Approved</td>\n",
       "      <td>Not in a structural group</td>\n",
       "      <td>Ibáñez-Insa J, Elvira J J, Llovet X, Pérez-Can...</td>\n",
       "      <td>hexagonal</td>\n",
       "      <td>P31c|P6_3mc</td>\n",
       "      <td>370.0</td>\n",
       "      <td>Na Pb^2+ C O H</td>\n",
       "      <td>Biotic, Secondary; Stage 7: Great Oxidation Ev...</td>\n",
       "    </tr>\n",
       "    <tr>\n",
       "      <th>1</th>\n",
       "      <td>Abelsonite</td>\n",
       "      <td>Ni2+C31H32N4</td>\n",
       "      <td>NiC31H32N4</td>\n",
       "      <td>Ni C H N</td>\n",
       "      <td>1975</td>\n",
       "      <td>Approved</td>\n",
       "      <td>Not in a structural group</td>\n",
       "      <td>Milton C, Dwornik E J, Estep-Barnes P A, Finke...</td>\n",
       "      <td>triclinic</td>\n",
       "      <td>P-1</td>\n",
       "      <td>56.0</td>\n",
       "      <td>Ni^2+ C H N</td>\n",
       "      <td>Biotic, Secondary; Stage 7: Great Oxidation Ev...</td>\n",
       "    </tr>\n",
       "    <tr>\n",
       "      <th>2</th>\n",
       "      <td>Abenakiite-(Ce)</td>\n",
       "      <td>Na26Ce3+6(SiO3)6(PO4)6(C4+O3)6(S4+O2)O</td>\n",
       "      <td>Na26Ce6(Si6O18)(PO4)6(CO3)6(SO2)O</td>\n",
       "      <td>Na Ce Si O P C S</td>\n",
       "      <td>1991</td>\n",
       "      <td>Approved</td>\n",
       "      <td>Not in a structural group</td>\n",
       "      <td>McDonald A M, Chao G Y, Grice J D (1994) Abena...</td>\n",
       "      <td>hexagonal</td>\n",
       "      <td>R-3</td>\n",
       "      <td>124.0</td>\n",
       "      <td>Na Ce^3+ Si O P C^4+ S^4+</td>\n",
       "      <td>Abiotic, Primary; Stage 4b: Highly evolved ign...</td>\n",
       "    </tr>\n",
       "    <tr>\n",
       "      <th>3</th>\n",
       "      <td>Abernathyite</td>\n",
       "      <td>K(U6+O2)As5+O4·3H2O</td>\n",
       "      <td>K(UO2)(AsO4)·3H2O</td>\n",
       "      <td>K U O As H</td>\n",
       "      <td>1956</td>\n",
       "      <td>Approved,Grandfathered</td>\n",
       "      <td>Natroautunite</td>\n",
       "      <td>Thompson M E, Ingram B, Gross E B (1956) Abern...</td>\n",
       "      <td>tetragonal</td>\n",
       "      <td>P4/nmm|P4/ncc</td>\n",
       "      <td>358.9</td>\n",
       "      <td>K U^6+ O As^5+ H</td>\n",
       "      <td>Biotic, Secondary; Stage 7: Great Oxidation Ev...</td>\n",
       "    </tr>\n",
       "    <tr>\n",
       "      <th>4</th>\n",
       "      <td>Abhurite</td>\n",
       "      <td>Sn2+21O6(OH)14Cl16</td>\n",
       "      <td>Sn2+21O6(OH)14Cl16</td>\n",
       "      <td>Sn O H Cl</td>\n",
       "      <td>1983</td>\n",
       "      <td>Approved</td>\n",
       "      <td>Not in a structural group</td>\n",
       "      <td>Matzko J J, Evans H T, Mrose M E, Aruscavage P...</td>\n",
       "      <td>hexagonal</td>\n",
       "      <td>R32</td>\n",
       "      <td>0.0</td>\n",
       "      <td>Sn^2+ O H Cl</td>\n",
       "      <td>Biotic, Secondary; Stage 7: Great Oxidation Ev...</td>\n",
       "    </tr>\n",
       "  </tbody>\n",
       "</table>\n",
       "</div>"
      ],
      "text/plain": [
       "              Name                                   RRUFF  \\\n",
       "0        Abellaite                       NaPb2+2(CO3)2(OH)   \n",
       "1       Abelsonite                            Ni2+C31H32N4   \n",
       "2  Abenakiite-(Ce)  Na26Ce3+6(SiO3)6(PO4)6(C4+O3)6(S4+O2)O   \n",
       "3     Abernathyite                     K(U6+O2)As5+O4·3H2O   \n",
       "4         Abhurite                      Sn2+21O6(OH)14Cl16   \n",
       "\n",
       "                                 IMA Chemistry Elements  Year First Published  \\\n",
       "0                    NaPb2(CO3)2(OH)        Na Pb C O H                  2014   \n",
       "1                         NiC31H32N4           Ni C H N                  1975   \n",
       "2  Na26Ce6(Si6O18)(PO4)6(CO3)6(SO2)O   Na Ce Si O P C S                  1991   \n",
       "3                  K(UO2)(AsO4)·3H2O         K U O As H                  1956   \n",
       "4                 Sn2+21O6(OH)14Cl16          Sn O H Cl                  1983   \n",
       "\n",
       "               IMA Status       Structural Groupname  \\\n",
       "0                Approved  Not in a structural group   \n",
       "1                Approved  Not in a structural group   \n",
       "2                Approved  Not in a structural group   \n",
       "3  Approved,Grandfathered              Natroautunite   \n",
       "4                Approved  Not in a structural group   \n",
       "\n",
       "                                        Status Notes Crystal Systems  \\\n",
       "0  Ibáñez-Insa J, Elvira J J, Llovet X, Pérez-Can...       hexagonal   \n",
       "1  Milton C, Dwornik E J, Estep-Barnes P A, Finke...       triclinic   \n",
       "2  McDonald A M, Chao G Y, Grice J D (1994) Abena...       hexagonal   \n",
       "3  Thompson M E, Ingram B, Gross E B (1956) Abern...      tetragonal   \n",
       "4  Matzko J J, Evans H T, Mrose M E, Aruscavage P...       hexagonal   \n",
       "\n",
       "    Space Groups  Oldest Known Age (Ma)           Valence Elements  \\\n",
       "0    P31c|P6_3mc                  370.0             Na Pb^2+ C O H   \n",
       "1            P-1                   56.0                Ni^2+ C H N   \n",
       "2            R-3                  124.0  Na Ce^3+ Si O P C^4+ S^4+   \n",
       "3  P4/nmm|P4/ncc                  358.9           K U^6+ O As^5+ H   \n",
       "4            R32                    0.0               Sn^2+ O H Cl   \n",
       "\n",
       "                                   Paragenetic Modes  \n",
       "0  Biotic, Secondary; Stage 7: Great Oxidation Ev...  \n",
       "1  Biotic, Secondary; Stage 7: Great Oxidation Ev...  \n",
       "2  Abiotic, Primary; Stage 4b: Highly evolved ign...  \n",
       "3  Biotic, Secondary; Stage 7: Great Oxidation Ev...  \n",
       "4  Biotic, Secondary; Stage 7: Great Oxidation Ev...  "
      ]
     },
     "execution_count": 36,
     "metadata": {},
     "output_type": "execute_result"
    }
   ],
   "source": [
    "df = df.drop_duplicates()\n",
    "df.head(5)"
   ]
  },
  {
   "cell_type": "code",
   "execution_count": 37,
   "id": "24fd8dbf",
   "metadata": {},
   "outputs": [
    {
     "data": {
      "text/plain": [
       "Name                     5904\n",
       "RRUFF                    5904\n",
       "IMA                      5904\n",
       "Chemistry Elements       5904\n",
       "Year First Published     5904\n",
       "IMA Status               5903\n",
       "Structural Groupname     5904\n",
       "Status Notes             5899\n",
       "Crystal Systems          5634\n",
       "Space Groups             5159\n",
       "Oldest Known Age (Ma)    4824\n",
       "Valence Elements         5904\n",
       "Paragenetic Modes        5845\n",
       "dtype: int64"
      ]
     },
     "execution_count": 37,
     "metadata": {},
     "output_type": "execute_result"
    }
   ],
   "source": [
    "df.count()"
   ]
  },
  {
   "cell_type": "markdown",
   "id": "6f22c32c",
   "metadata": {},
   "source": [
    "В данном датасете дубликатов не наблюдалось, но на всякий случай мы это проверили."
   ]
  },
  {
   "cell_type": "markdown",
   "id": "82e53dad",
   "metadata": {},
   "source": [
    "7) Удаляем пустые/отсутствующие значения"
   ]
  },
  {
   "cell_type": "code",
   "execution_count": 38,
   "id": "f7656b92",
   "metadata": {},
   "outputs": [
    {
     "name": "stdout",
     "output_type": "stream",
     "text": [
      "Name                        0\n",
      "RRUFF                       0\n",
      "IMA                         0\n",
      "Chemistry Elements          0\n",
      "Year First Published        0\n",
      "IMA Status                  1\n",
      "Structural Groupname        0\n",
      "Status Notes                5\n",
      "Crystal Systems           270\n",
      "Space Groups              745\n",
      "Oldest Known Age (Ma)    1080\n",
      "Valence Elements            0\n",
      "Paragenetic Modes          59\n",
      "dtype: int64\n"
     ]
    }
   ],
   "source": [
    "print(df.isnull().sum())"
   ]
  },
  {
   "cell_type": "code",
   "execution_count": null,
   "id": "ef0284c1",
   "metadata": {},
   "outputs": [
    {
     "data": {
      "text/plain": [
       "(4079, 13)"
      ]
     },
     "execution_count": 53,
     "metadata": {},
     "output_type": "execute_result"
    }
   ],
   "source": [
    "df = df.dropna() # Удаляем строки с пустыми значениями\n",
    "df.count()"
   ]
  },
  {
   "cell_type": "code",
   "execution_count": 40,
   "id": "58c77e7a",
   "metadata": {},
   "outputs": [
    {
     "name": "stdout",
     "output_type": "stream",
     "text": [
      "Name                     0\n",
      "RRUFF                    0\n",
      "IMA                      0\n",
      "Chemistry Elements       0\n",
      "Year First Published     0\n",
      "IMA Status               0\n",
      "Structural Groupname     0\n",
      "Status Notes             0\n",
      "Crystal Systems          0\n",
      "Space Groups             0\n",
      "Oldest Known Age (Ma)    0\n",
      "Valence Elements         0\n",
      "Paragenetic Modes        0\n",
      "dtype: int64\n"
     ]
    }
   ],
   "source": [
    "print(df.isnull().sum())"
   ]
  },
  {
   "cell_type": "markdown",
   "id": "5d1578ab",
   "metadata": {},
   "source": [
    "Мы удалили все строки с пустыми/отсутствующими значениями признаков."
   ]
  },
  {
   "cell_type": "markdown",
   "id": "cc3623e4",
   "metadata": {},
   "source": [
    "8) Работаем с выбросами"
   ]
  },
  {
   "cell_type": "code",
   "execution_count": 43,
   "id": "bf23b5e4",
   "metadata": {},
   "outputs": [
    {
     "name": "stdout",
     "output_type": "stream",
     "text": [
      "Year First Published       75.0\n",
      "Oldest Known Age (Ma)    1765.0\n",
      "dtype: float64\n"
     ]
    }
   ],
   "source": [
    "Q1 = df.quantile(0.25, numeric_only=True)\n",
    "Q3 = df.quantile(0.75, numeric_only=True)\n",
    "IQR = Q3 - Q1\n",
    "print(IQR)"
   ]
  },
  {
   "cell_type": "code",
   "execution_count": 51,
   "id": "75e4ba5d",
   "metadata": {},
   "outputs": [
    {
     "data": {
      "text/plain": [
       "(4079, 13)"
      ]
     },
     "execution_count": 51,
     "metadata": {},
     "output_type": "execute_result"
    }
   ],
   "source": [
    "lower_bound = pd.DataFrame([Q1 - 1.5 * IQR] * len(df), index=df.index, columns=df.columns)\n",
    "upper_bound = pd.DataFrame([Q3 + 1.5 * IQR] * len(df), index=df.index, columns=df.columns)\n",
    "\n",
    "df = df[~((df < lower_bound) | (df > upper_bound)).any(axis=1)]\n",
    "df.shape"
   ]
  },
  {
   "cell_type": "markdown",
   "id": "c558415b",
   "metadata": {},
   "source": [
    "Мы произвели очистку выбросов."
   ]
  },
  {
   "cell_type": "markdown",
   "id": "2bc00e3a",
   "metadata": {},
   "source": [
    "ЗАКЛЮЧЕНИЕ: Таким образом мы прочитали датасет, удалили ненужные признаки, очистили строчки с пустыми значениями, убрали выбросы."
   ]
  }
 ],
 "metadata": {
  "kernelspec": {
   "display_name": "Python 3",
   "language": "python",
   "name": "python3"
  },
  "language_info": {
   "codemirror_mode": {
    "name": "ipython",
    "version": 3
   },
   "file_extension": ".py",
   "mimetype": "text/x-python",
   "name": "python",
   "nbconvert_exporter": "python",
   "pygments_lexer": "ipython3",
   "version": "3.13.5"
  }
 },
 "nbformat": 4,
 "nbformat_minor": 5
}
